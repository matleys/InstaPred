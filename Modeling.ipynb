{
 "cells": [
  {
   "cell_type": "code",
   "execution_count": 109,
   "metadata": {},
   "outputs": [],
   "source": [
    "import numpy as np\n",
    "import cv2\n",
    "import os\n",
    "import pickle\n",
    "from pathlib import Path\n",
    "import matplotlib.pyplot as plt\n",
    "from PIL import Image\n",
    "from sklearn.model_selection import train_test_split\n",
    "from tensorflow.keras.layers import Input, Dense, Flatten, Conv2D, MaxPool2D\n",
    "from tensorflow.keras.models import Sequential, Model, save_model\n",
    "from tensorflow.keras.callbacks import EarlyStopping"
   ]
  },
  {
   "cell_type": "markdown",
   "metadata": {},
   "source": [
    "# Read data & structure"
   ]
  },
  {
   "cell_type": "code",
   "execution_count": 78,
   "metadata": {},
   "outputs": [],
   "source": [
    "# read images as 3D numpy arrays (RGB)\n",
    "width, height = 200, 200\n",
    "X = list()\n",
    "for file in os.listdir(Path('webdev_ig')):\n",
    "    path = Path('webdev_ig') / file\n",
    "    temp = Image.open(str(path))\n",
    "    temp = temp.resize((width, height), Image.ANTIALIAS)\n",
    "    np_img = np.array(temp)\n",
    "    X.append(np_img)"
   ]
  },
  {
   "cell_type": "code",
   "execution_count": 79,
   "metadata": {},
   "outputs": [],
   "source": [
    "X = np.array(X)"
   ]
  },
  {
   "cell_type": "code",
   "execution_count": 80,
   "metadata": {},
   "outputs": [],
   "source": [
    "# load likes per image\n",
    "with open(Path('likes.pkl'), 'rb') as f:\n",
    "        likes = pickle.load(f)"
   ]
  },
  {
   "cell_type": "code",
   "execution_count": 81,
   "metadata": {},
   "outputs": [],
   "source": [
    "y = list(likes.values())"
   ]
  },
  {
   "cell_type": "code",
   "execution_count": 82,
   "metadata": {},
   "outputs": [],
   "source": [
    "y = np.array(y)"
   ]
  },
  {
   "cell_type": "code",
   "execution_count": 83,
   "metadata": {},
   "outputs": [],
   "source": [
    "X_train, X_test, y_train, y_test = train_test_split(X, y, test_size=0.20, random_state=42)"
   ]
  },
  {
   "cell_type": "code",
   "execution_count": 84,
   "metadata": {},
   "outputs": [],
   "source": [
    "inp = Input(shape=(width, height, 3))\n",
    "conv1 = Conv2D(32, 4, activation='relu')(inp)\n",
    "pool1 = MaxPool2D((2,2))(conv1)\n",
    "conv2 = Conv2D(8, 4, activation='relu')(pool1)\n",
    "pool2 = MaxPool2D((2,2))(conv2)\n",
    "flat = Flatten()(pool2)\n",
    "dense = Dense(8)(flat)\n",
    "out = Dense(1, activation='linear')(dense)"
   ]
  },
  {
   "cell_type": "code",
   "execution_count": 85,
   "metadata": {},
   "outputs": [
    {
     "name": "stdout",
     "output_type": "stream",
     "text": [
      "Model: \"InstaPred\"\n",
      "_________________________________________________________________\n",
      "Layer (type)                 Output Shape              Param #   \n",
      "=================================================================\n",
      "input_12 (InputLayer)        [(None, 200, 200, 3)]     0         \n",
      "_________________________________________________________________\n",
      "conv2d_20 (Conv2D)           (None, 197, 197, 32)      1568      \n",
      "_________________________________________________________________\n",
      "max_pooling2d_12 (MaxPooling (None, 98, 98, 32)        0         \n",
      "_________________________________________________________________\n",
      "conv2d_21 (Conv2D)           (None, 95, 95, 8)         4104      \n",
      "_________________________________________________________________\n",
      "max_pooling2d_13 (MaxPooling (None, 47, 47, 8)         0         \n",
      "_________________________________________________________________\n",
      "flatten_10 (Flatten)         (None, 17672)             0         \n",
      "_________________________________________________________________\n",
      "dense_19 (Dense)             (None, 8)                 141384    \n",
      "_________________________________________________________________\n",
      "dense_20 (Dense)             (None, 1)                 9         \n",
      "=================================================================\n",
      "Total params: 147,065\n",
      "Trainable params: 147,065\n",
      "Non-trainable params: 0\n",
      "_________________________________________________________________\n"
     ]
    }
   ],
   "source": [
    "model = Model(inputs = inp, outputs = out, name=\"InstaPred\")\n",
    "model.summary()"
   ]
  },
  {
   "cell_type": "code",
   "execution_count": 86,
   "metadata": {},
   "outputs": [],
   "source": [
    "model.compile(optimizer=\"Adam\", loss=\"mse\", metrics=[\"mae\"])"
   ]
  },
  {
   "cell_type": "code",
   "execution_count": 92,
   "metadata": {},
   "outputs": [],
   "source": [
    "callback = EarlyStopping(monitor='val_loss', patience=2, verbose=0)"
   ]
  },
  {
   "cell_type": "code",
   "execution_count": 96,
   "metadata": {
    "scrolled": false
   },
   "outputs": [
    {
     "name": "stdout",
     "output_type": "stream",
     "text": [
      "Epoch 1/100\n",
      "4/4 [==============================] - 1s 249ms/step - loss: 18518.5742 - mae: 99.9825 - val_loss: 4513780.5000 - val_mae: 1473.5625\n",
      "Epoch 2/100\n",
      "4/4 [==============================] - 1s 227ms/step - loss: 18231.5332 - mae: 110.0614 - val_loss: 4962574.5000 - val_mae: 1576.8950\n",
      "Epoch 3/100\n",
      "4/4 [==============================] - 1s 224ms/step - loss: 16920.2461 - mae: 105.3259 - val_loss: 4781333.5000 - val_mae: 1538.3345\n"
     ]
    },
    {
     "data": {
      "text/plain": [
       "<tensorflow.python.keras.callbacks.History at 0x19e1b085dc0>"
      ]
     },
     "execution_count": 96,
     "metadata": {},
     "output_type": "execute_result"
    }
   ],
   "source": [
    "model.fit(X_train, y_train, validation_data=(X_test, y_test), epochs=100, batch_size=8, callbacks=[callback])"
   ]
  },
  {
   "cell_type": "code",
   "execution_count": 107,
   "metadata": {},
   "outputs": [
    {
     "data": {
      "text/plain": [
       "[<matplotlib.lines.Line2D at 0x19e1b4f07c0>]"
      ]
     },
     "execution_count": 107,
     "metadata": {},
     "output_type": "execute_result"
    },
    {
     "data": {
      "image/png": "[encoded data removed]",
      "text/plain": [
       "<Figure size 432x288 with 1 Axes>"
      ]
     },
     "metadata": {
      "needs_background": "light"
     },
     "output_type": "display_data"
    }
   ],
   "source": [
    "plt.plot(model.history.history['val_mae'])"
   ]
  },
  {
   "cell_type": "code",
   "execution_count": 111,
   "metadata": {},
   "outputs": [
    {
     "name": "stdout",
     "output_type": "stream",
     "text": [
      "INFO:tensorflow:Assets written to: model\\assets\n"
     ]
    }
   ],
   "source": [
    "save_model(model, filepath=Path('model'))"
   ]
  }
 ],
 "metadata": {
  "kernelspec": {
   "display_name": "Python 3",
   "language": "python",
   "name": "python3"
  },
  "language_info": {
   "codemirror_mode": {
    "name": "ipython",
    "version": 3
   },
   "file_extension": ".py",
   "mimetype": "text/x-python",
   "name": "python",
   "nbconvert_exporter": "python",
   "pygments_lexer": "ipython3",
   "version": "3.8.5"
  }
 },
 "nbformat": 4,
 "nbformat_minor": 4
}
